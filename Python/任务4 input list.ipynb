{
 "cells": [
  {
   "cell_type": "code",
   "execution_count": 4,
   "metadata": {},
   "outputs": [],
   "source": [
    "def print_cal(a):\n",
    "      b=int(len(a)/2)\n",
    "      print(sum(a[:b]))"
   ]
  },
  {
   "cell_type": "code",
   "execution_count": 5,
   "metadata": {},
   "outputs": [
    {
     "name": "stdout",
     "output_type": "stream",
     "text": [
      "1,2,3,4,5,6\n",
      "['1', '2', '3', '4', '5', '6']\n",
      "6\n"
     ]
    }
   ],
   "source": [
    "x=input()\n",
    "#isinstance(name,list)\n",
    "#print_hello(name)\n",
    "try:\n",
    "    if(x is None):\n",
    "        print(\"input None\")\n",
    "    if x.strip()==\"\":  \n",
    "        print(\"input is null\")\n",
    "    if x.strip():    \n",
    "        xlist=x.split(\",\")\n",
    "        print(xlist)\n",
    "        xlist = [int(xlist[i]) for i in range(len(xlist))]\n",
    "        print_cal(xlist)\n",
    "except expression as identifier:\n",
    "    print(\"error\")"
   ]
  },
  {
   "cell_type": "code",
   "execution_count": 2,
   "metadata": {},
   "outputs": [
    {
     "name": "stdout",
     "output_type": "stream",
     "text": [
      "6\n",
      "None\n"
     ]
    }
   ],
   "source": [
    "print(print_cal([1,2,3,4,5,6]))"
   ]
  },
  {
   "cell_type": "code",
   "execution_count": 2,
   "metadata": {},
   "outputs": [],
   "source": [
    "#另一种实现方法\n",
    "\n",
    "def sumofhalf(a=[]):\n",
    "    if a is not None:\n",
    "        return  sum(a[:int(len(a)/2)])\n",
    "    else:\n",
    "        return 0"
   ]
  },
  {
   "cell_type": "code",
   "execution_count": 3,
   "metadata": {},
   "outputs": [
    {
     "name": "stdout",
     "output_type": "stream",
     "text": [
      "6\n",
      "0\n",
      "0\n",
      "0\n"
     ]
    }
   ],
   "source": [
    "print(sumofhalf([1,2,3,4,5,6]))\n",
    "print(sumofhalf([]))\n",
    "print(sumofhalf(None))\n",
    "print(sumofhalf())"
   ]
  },
  {
   "cell_type": "code",
   "execution_count": null,
   "metadata": {},
   "outputs": [],
   "source": []
  }
 ],
 "metadata": {
  "kernelspec": {
   "display_name": "Python 3",
   "language": "python",
   "name": "python3"
  },
  "language_info": {
   "codemirror_mode": {
    "name": "ipython",
    "version": 3
   },
   "file_extension": ".py",
   "mimetype": "text/x-python",
   "name": "python",
   "nbconvert_exporter": "python",
   "pygments_lexer": "ipython3",
   "version": "3.6.4"
  }
 },
 "nbformat": 4,
 "nbformat_minor": 2
}
