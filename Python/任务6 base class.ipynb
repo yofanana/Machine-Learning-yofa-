{
 "cells": [
  {
   "cell_type": "code",
   "execution_count": 2,
   "metadata": {},
   "outputs": [
    {
     "data": {
      "text/plain": [
       "'１、       定义一个基类，包含以下函数方法train，predict，forward，activate , backpropagation，accuracy，save\\n\\n在构造函数中打印\"super\"\\n\\n这里每个函数（除Predict外）的实现都为pass即可\\n\\n \\n\\nTrain：参数为X，epsilon，epoch，没有返回值\\n\\nPredict：参数为X，返回值为y（直接返回y即可）\\n\\nForward：参数为row\\n\\nActivate：参数为inputs\\n\\nBackpropagation：参数为expected\\n\\nAccuracy：无参数\\n\\nSave：参数为path\\n\\n \\n\\n２、定义一个类，继承1中定义的基类，\\n\\n实现所有函数，\\n\\n所有函数功能为打印函数名和参数。\\n\\n4，在2中定义的类中定义属性变量network，bias和weights\\n\\n5，在__init__中初始化属性变量network，bias和weights\\n\\n3，创建2中定义的类的一个实例，并调用其中一个方法(函数)\\n'"
      ]
     },
     "execution_count": 2,
     "metadata": {},
     "output_type": "execute_result"
    }
   ],
   "source": [
    "'''１、定义一个基类，包含以下函数方法train，predict，forward，activate , backpropagation，accuracy，save\n",
    "\n",
    "在构造函数中打印\"super\"\n",
    "\n",
    "这里每个函数（除Predict外）的实现都为pass即可\n",
    "\n",
    "Train：参数为X，epsilon，epoch，没有返回值\n",
    "\n",
    "Predict：参数为X，返回值为y（直接返回y即可）\n",
    "\n",
    "Forward：参数为row\n",
    "\n",
    "Activate：参数为inputs\n",
    "\n",
    "Backpropagation：参数为expected\n",
    "\n",
    "Accuracy：无参数\n",
    "\n",
    "Save：参数为path\n",
    "\n",
    " \n",
    "\n",
    "２、定义一个类，继承1中定义的基类，\n",
    "\n",
    "实现所有函数，\n",
    "\n",
    "所有函数功能为打印函数名和参数。\n",
    "\n",
    "4，在2中定义的类中定义属性变量network，bias和weights\n",
    "\n",
    "5，在__init__中初始化属性变量network，bias和weights\n",
    "\n",
    "3，创建2中定义的类的一个实例，并调用其中一个方法(函数)\n",
    "'''"
   ]
  },
  {
   "cell_type": "code",
   "execution_count": null,
   "metadata": {},
   "outputs": [],
   "source": [
    "def base"
   ]
  }
 ],
 "metadata": {
  "kernelspec": {
   "display_name": "Python 3",
   "language": "python",
   "name": "python3"
  },
  "language_info": {
   "codemirror_mode": {
    "name": "ipython",
    "version": 3
   },
   "file_extension": ".py",
   "mimetype": "text/x-python",
   "name": "python",
   "nbconvert_exporter": "python",
   "pygments_lexer": "ipython3",
   "version": "3.6.4"
  }
 },
 "nbformat": 4,
 "nbformat_minor": 2
}
