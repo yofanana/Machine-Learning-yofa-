{
 "cells": [
  {
   "cell_type": "code",
   "execution_count": 1,
   "metadata": {},
   "outputs": [
    {
     "name": "stdout",
     "output_type": "stream",
     "text": [
      "dic: \n",
      "{'a': 1, 'b': 2, 'c': 3, 'd': 4, 'e': 5, 'f': 6, 'g': 7, 'h': 8, 'i': 9, 'j': 10, 'k': 11, 'l': 12, 'm': 13, 'n': 14, 'o': 15, 'p': 16, 'q': 17, 'r': 18, 's': 19, 't': 20, 'u': 21, 'v': 22, 'w': 23, 'x': 24, 'y': 25, 'z': 26}\n",
      "\n",
      "get len: \n",
      "26\n",
      "\n",
      "delet [h]: \n",
      "{'a': 1, 'b': 2, 'c': 3, 'd': 4, 'e': 5, 'f': 6, 'g': 7, 'i': 9, 'j': 10, 'k': 11, 'l': 12, 'm': 13, 'n': 14, 'o': 15, 'p': 16, 'q': 17, 'r': 18, 's': 19, 't': 20, 'u': 21, 'v': 22, 'w': 23, 'x': 24, 'y': 25, 'z': 26}\n",
      "\n",
      "value >5: \n",
      "{'f': 6, 'g': 7, 'j': 10, 'k': 11, 'l': 12, 'm': 13, 'n': 14, 'o': 15, 'p': 16, 'q': 17, 'r': 18, 's': 19, 't': 20, 'u': 21, 'v': 22, 'w': 23, 'x': 24, 'y': 25, 'z': 26}\n",
      "\n",
      "cannot found key[h]\n",
      "\n",
      "cannot found value 9\n",
      "\n",
      "dict_keys(['a', 'b', 'c', 'd', 'e', 'f', 'g', 'i', 'j', 'k', 'l', 'm', 'n', 'o', 'p', 'q', 'r', 's', 't', 'u', 'v', 'w', 'x', 'y', 'z'])\n",
      "dict_values([1, 2, 3, 4, 5, 6, 7, 0, 10, 11, 12, 13, 14, 15, 16, 17, 18, 19, 20, 21, 22, 23, 24, 25, 26])\n",
      "{}\n"
     ]
    }
   ],
   "source": [
    "\n",
    "import string\n",
    "alphabetList=list(string.ascii_lowercase[:26])\n",
    "numList=list(range(1,27))\n",
    "\n",
    "mydict = dict()\n",
    "for i in numList:\n",
    "    mydict[alphabetList[i-1]]=i\n",
    "print(\"{}\\n{}\\n\".format(\"dic: \",mydict)) \n",
    "#get count\n",
    "print(\"{}\\n{}\\n\".format(\"get len: \",len(mydict))) \n",
    "\n",
    "#delete h\n",
    "del mydict[\"h\"]\n",
    "print(\"{}\\n{}\\n\".format(\"delet [h]: \",mydict)) \n",
    "\n",
    "#get value >5\n",
    "mydict[\"i\"]=0\n",
    "print(\"{}\\n{}\\n\".format(\"value >5: \",{k: v for k, v in mydict.items() if v > 5 })) \n",
    "\n",
    "#if exist key[h]\n",
    "if 'h' in mydict:\n",
    "    print (\"exist\\n\")\n",
    "else:\n",
    "    print (\"cannot found key[h]\\n\")\n",
    "\n",
    "#if exist value 9\n",
    "if 9 in mydict:\n",
    "    print (\"exist\\n\")\n",
    "else:\n",
    "    print (\"cannot found value 9\\n\")\n",
    "\n",
    "#print key\n",
    "print(mydict.keys())\n",
    "\n",
    "#pring value\n",
    "print(mydict.values())\n",
    "\n",
    "#clear dict\n",
    "mydict.clear()\n",
    "print(mydict)\n"
   ]
  },
  {
   "cell_type": "code",
   "execution_count": 13,
   "metadata": {
    "collapsed": true
   },
   "outputs": [],
   "source": [
    "import string\n",
    "alphabetList=list(string.ascii_lowercase[:26])\n",
    "numList=list(range(1,27))"
   ]
  },
  {
   "cell_type": "code",
   "execution_count": 14,
   "metadata": {},
   "outputs": [
    {
     "name": "stdout",
     "output_type": "stream",
     "text": [
      "dic: \n",
      "{'t': 20, 'o': 15, 'x': 24, 'k': 11, 'e': 5, 'd': 4, 'n': 14, 'm': 13, 'v': 22, 'h': 8, 'l': 12, 'w': 23, 'f': 6, 'i': 9, 'g': 7, 'b': 2, 'r': 18, 'a': 1, 'q': 17, 'j': 10, 'y': 25, 'p': 16, 'u': 21, 'c': 3, 's': 19, 'z': 26}\n",
      "\n"
     ]
    }
   ],
   "source": [
    "mydict = dict()\n",
    "for i in numList:\n",
    "    mydict[alphabetList[i-1]]=i\n",
    "print(\"{}\\n{}\\n\".format(\"dic: \",mydict)) "
   ]
  },
  {
   "cell_type": "code",
   "execution_count": 22,
   "metadata": {},
   "outputs": [
    {
     "name": "stdout",
     "output_type": "stream",
     "text": [
      "{'t': 20, 'o': 15, 'x': 24, 'k': 11, 'e': 5, 'd': 4, 'n': 14, 'm': 13, 'v': 22, 'h': 8, 'l': 12, 'w': 23, 'f': 6, 'i': 9, 'g': 7, 'b': 2, 'r': 18, 'a': 1, 'q': 17, 'j': 10, 'y': 25, 'p': 16, 'u': 21, 'c': 3, 's': 19, 'z': 26}\n"
     ]
    }
   ],
   "source": [
    "#其他实现方法\n",
    "# 在字典中增加n个项目，key为小写英文字母，value为字母表中key的序号数字\n",
    "\n",
    "# 从1开始，也就是a的序号是1，z的序号是26\n",
    "d={chr(i):i-96 for i in range(97,123)}\n",
    "print(d)"
   ]
  },
  {
   "cell_type": "code",
   "execution_count": 15,
   "metadata": {},
   "outputs": [
    {
     "name": "stdout",
     "output_type": "stream",
     "text": [
      "get len: \n",
      "26\n",
      "\n"
     ]
    }
   ],
   "source": [
    "#get count\n",
    "print(\"{}\\n{}\\n\".format(\"get len: \",len(mydict))) "
   ]
  },
  {
   "cell_type": "code",
   "execution_count": 16,
   "metadata": {},
   "outputs": [
    {
     "name": "stdout",
     "output_type": "stream",
     "text": [
      "delet [h]: \n",
      "{'t': 20, 'o': 15, 'x': 24, 'k': 11, 'e': 5, 'd': 4, 'n': 14, 'm': 13, 'v': 22, 'l': 12, 'w': 23, 'f': 6, 'i': 9, 'g': 7, 'b': 2, 'r': 18, 'a': 1, 'q': 17, 'j': 10, 'y': 25, 'p': 16, 'u': 21, 'c': 3, 's': 19, 'z': 26}\n",
      "\n"
     ]
    }
   ],
   "source": [
    "#delete h\n",
    "del mydict[\"h\"]\n",
    "print(\"{}\\n{}\\n\".format(\"delet [h]: \",mydict)) "
   ]
  },
  {
   "cell_type": "code",
   "execution_count": 17,
   "metadata": {},
   "outputs": [
    {
     "data": {
      "text/plain": [
       "{'a': 1,\n",
       " 'b': 2,\n",
       " 'c': 3,\n",
       " 'd': 4,\n",
       " 'e': 5,\n",
       " 'f': 6,\n",
       " 'g': 7,\n",
       " 'i': 0,\n",
       " 'j': 10,\n",
       " 'k': 11,\n",
       " 'l': 12,\n",
       " 'm': 13,\n",
       " 'n': 14,\n",
       " 'o': 15,\n",
       " 'p': 16,\n",
       " 'q': 17,\n",
       " 'r': 18,\n",
       " 's': 19,\n",
       " 't': 20,\n",
       " 'u': 21,\n",
       " 'v': 22,\n",
       " 'w': 23,\n",
       " 'x': 24,\n",
       " 'y': 25,\n",
       " 'z': 26}"
      ]
     },
     "execution_count": 17,
     "metadata": {},
     "output_type": "execute_result"
    }
   ],
   "source": [
    "#5，\t将字母i的序号改为0\n",
    "mydict[\"i\"]=0\n",
    "mydict"
   ]
  },
  {
   "cell_type": "code",
   "execution_count": 18,
   "metadata": {},
   "outputs": [
    {
     "name": "stdout",
     "output_type": "stream",
     "text": [
      "value >5: \n",
      "{'f': 6, 'j': 10, 't': 20, 'z': 26, 'g': 7, 'o': 15, 'k': 11, 'r': 18, 'x': 24, 'n': 14, 'm': 13, 'y': 25, 'p': 16, 'v': 22, 'l': 12, 'q': 17, 'w': 23, 's': 19, 'u': 21}\n",
      "\n"
     ]
    }
   ],
   "source": [
    "#get value >5\n",
    "\n",
    "print(\"{}\\n{}\\n\".format(\"value >5: \",{k: v for k, v in mydict.items() if v > 5 })) "
   ]
  },
  {
   "cell_type": "code",
   "execution_count": 6,
   "metadata": {},
   "outputs": [
    {
     "name": "stdout",
     "output_type": "stream",
     "text": [
      "cannot found key[h]\n",
      "\n"
     ]
    }
   ],
   "source": [
    "#if exist key[h]\n",
    "if 'h' in mydict:\n",
    "    print (\"exist\\n\")\n",
    "else:\n",
    "    print (\"cannot found key[h]\\n\")"
   ]
  },
  {
   "cell_type": "code",
   "execution_count": 21,
   "metadata": {},
   "outputs": [
    {
     "name": "stdout",
     "output_type": "stream",
     "text": [
      "not in mydict\n"
     ]
    }
   ],
   "source": [
    "# 其他实现方法\n",
    "#7，\t确认字典中字母h是否存在\n",
    "print(mydict.get('h','not in mydict'))"
   ]
  },
  {
   "cell_type": "code",
   "execution_count": 7,
   "metadata": {},
   "outputs": [
    {
     "name": "stdout",
     "output_type": "stream",
     "text": [
      "cannot found value 9\n",
      "\n"
     ]
    }
   ],
   "source": [
    "#if exist value 9\n",
    "if 9 in mydict:\n",
    "    print (\"exist\\n\")\n",
    "else:\n",
    "    print (\"cannot found value 9\\n\")"
   ]
  },
  {
   "cell_type": "code",
   "execution_count": 23,
   "metadata": {},
   "outputs": [
    {
     "name": "stdout",
     "output_type": "stream",
     "text": [
      "9 not exit\n"
     ]
    }
   ],
   "source": [
    "# 目的是检查值中是否存在9，最好明确指明在值中检查\n",
    "# 确认字典中是否存在序号9\n",
    "\n",
    "if 9 in mydict.values():\n",
    "    print('9 exit')\n",
    "else :\n",
    "    print('9 not exit')"
   ]
  },
  {
   "cell_type": "code",
   "execution_count": 8,
   "metadata": {},
   "outputs": [
    {
     "name": "stdout",
     "output_type": "stream",
     "text": [
      "dict_keys(['t', 'o', 'x', 'k', 'e', 'd', 'n', 'm', 'v', 'l', 'w', 'f', 'i', 'g', 'b', 'r', 'a', 'q', 'j', 'y', 'p', 'u', 'c', 's', 'z'])\n"
     ]
    }
   ],
   "source": [
    "#print key\n",
    "print(mydict.keys())"
   ]
  },
  {
   "cell_type": "code",
   "execution_count": 9,
   "metadata": {},
   "outputs": [
    {
     "name": "stdout",
     "output_type": "stream",
     "text": [
      "dict_values([20, 15, 24, 11, 5, 4, 14, 13, 22, 12, 23, 6, 0, 7, 2, 18, 1, 17, 10, 25, 16, 21, 3, 19, 26])\n"
     ]
    }
   ],
   "source": [
    "#pring value\n",
    "print(mydict.values())"
   ]
  },
  {
   "cell_type": "code",
   "execution_count": 10,
   "metadata": {},
   "outputs": [
    {
     "name": "stdout",
     "output_type": "stream",
     "text": [
      "{}\n"
     ]
    }
   ],
   "source": [
    "#clear dict\n",
    "mydict.clear()\n",
    "print(mydict)"
   ]
  },
  {
   "cell_type": "code",
   "execution_count": null,
   "metadata": {
    "collapsed": true
   },
   "outputs": [],
   "source": []
  }
 ],
 "metadata": {
  "kernelspec": {
   "display_name": "Python 3",
   "language": "python",
   "name": "python3"
  },
  "language_info": {
   "codemirror_mode": {
    "name": "ipython",
    "version": 3
   },
   "file_extension": ".py",
   "mimetype": "text/x-python",
   "name": "python",
   "nbconvert_exporter": "python",
   "pygments_lexer": "ipython3",
   "version": "3.6.4"
  }
 },
 "nbformat": 4,
 "nbformat_minor": 2
}
