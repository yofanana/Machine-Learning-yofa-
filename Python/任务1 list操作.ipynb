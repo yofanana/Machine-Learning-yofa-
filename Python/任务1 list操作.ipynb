{
 "cells": [
  {
   "cell_type": "code",
   "execution_count": 1,
   "metadata": {},
   "outputs": [
    {
     "name": "stdout",
     "output_type": "stream",
     "text": [
      "dic: \n",
      "{'a': 1, 'b': 2, 'c': 3, 'd': 4, 'e': 5, 'f': 6, 'g': 7, 'h': 8, 'i': 9, 'j': 10, 'k': 11, 'l': 12, 'm': 13, 'n': 14, 'o': 15, 'p': 16, 'q': 17, 'r': 18, 's': 19, 't': 20, 'u': 21, 'v': 22, 'w': 23, 'x': 24, 'y': 25, 'z': 26}\n",
      "\n",
      "get len: \n",
      "26\n",
      "\n",
      "delet [h]: \n",
      "{'a': 1, 'b': 2, 'c': 3, 'd': 4, 'e': 5, 'f': 6, 'g': 7, 'i': 9, 'j': 10, 'k': 11, 'l': 12, 'm': 13, 'n': 14, 'o': 15, 'p': 16, 'q': 17, 'r': 18, 's': 19, 't': 20, 'u': 21, 'v': 22, 'w': 23, 'x': 24, 'y': 25, 'z': 26}\n",
      "\n",
      "value >5: \n",
      "{'f': 6, 'g': 7, 'j': 10, 'k': 11, 'l': 12, 'm': 13, 'n': 14, 'o': 15, 'p': 16, 'q': 17, 'r': 18, 's': 19, 't': 20, 'u': 21, 'v': 22, 'w': 23, 'x': 24, 'y': 25, 'z': 26}\n",
      "\n",
      "cannot found key[h]\n",
      "\n",
      "cannot found value 9\n",
      "\n",
      "dict_keys(['a', 'b', 'c', 'd', 'e', 'f', 'g', 'i', 'j', 'k', 'l', 'm', 'n', 'o', 'p', 'q', 'r', 's', 't', 'u', 'v', 'w', 'x', 'y', 'z'])\n",
      "dict_values([1, 2, 3, 4, 5, 6, 7, 0, 10, 11, 12, 13, 14, 15, 16, 17, 18, 19, 20, 21, 22, 23, 24, 25, 26])\n",
      "{}\n"
     ]
    }
   ],
   "source": [
    "#Python编程任务1\n",
    "#1，定义一个list\n",
    "#2，在定义的list中增加n个整数（n为大于5的整数，无重复）,n为给定的参数。在list中增加从1到n的整数。\n",
    "#3，打印第3个和第5个元素的值\n",
    "#4，在第3个和第4个元素中间插入一个整数\n",
    "#4，删除最后一个元素\n",
    "#5，打印list长度\n",
    "#6，求list中所有元素的平均值\n",
    "#7，找到list中最大元素\n",
    "#8，对list排序，输出排序结果\n",
    "\n",
    "import string\n",
    "alphabetList=list(string.ascii_lowercase[:26])\n",
    "numList=list(range(1,27))\n",
    "\n",
    "mydict = dict()\n",
    "for i in numList:\n",
    "    mydict[alphabetList[i-1]]=i\n",
    "print(\"{}\\n{}\\n\".format(\"dic: \",mydict)) \n",
    "#get count\n",
    "print(\"{}\\n{}\\n\".format(\"get len: \",len(mydict))) \n",
    "\n",
    "#delete h\n",
    "del mydict[\"h\"]\n",
    "print(\"{}\\n{}\\n\".format(\"delet [h]: \",mydict)) \n",
    "\n",
    "#get value >5\n",
    "mydict[\"i\"]=0\n",
    "print(\"{}\\n{}\\n\".format(\"value >5: \",{k: v for k, v in mydict.items() if v > 5 })) \n",
    "\n",
    "#if exist key[h]\n",
    "if 'h' in mydict:\n",
    "    print (\"exist\\n\")\n",
    "else:\n",
    "    print (\"cannot found key[h]\\n\")\n",
    "\n",
    "#if exist value 9\n",
    "if 9 in mydict:\n",
    "    print (\"exist\\n\")\n",
    "else:\n",
    "    print (\"cannot found value 9\\n\")\n",
    "\n",
    "#print key\n",
    "print(mydict.keys())\n",
    "\n",
    "#pring value\n",
    "print(mydict.values())\n",
    "\n",
    "#clear dict\n",
    "mydict.clear()\n",
    "print(mydict)\n"
   ]
  },
  {
   "cell_type": "code",
   "execution_count": null,
   "metadata": {},
   "outputs": [],
   "source": []
  }
 ],
 "metadata": {
  "kernelspec": {
   "display_name": "Python 3",
   "language": "python",
   "name": "python3"
  },
  "language_info": {
   "codemirror_mode": {
    "name": "ipython",
    "version": 3
   },
   "file_extension": ".py",
   "mimetype": "text/x-python",
   "name": "python",
   "nbconvert_exporter": "python",
   "pygments_lexer": "ipython3",
   "version": "3.6.4"
  }
 },
 "nbformat": 4,
 "nbformat_minor": 2
}
