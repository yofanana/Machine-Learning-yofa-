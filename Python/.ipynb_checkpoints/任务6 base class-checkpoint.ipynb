{
 "cells": [
  {
   "cell_type": "code",
   "execution_count": null,
   "metadata": {},
   "outputs": [],
   "source": [
    "'''１、定义一个基类，包含以下函数方法train，predict，forward，activate , backpropagation，accuracy，save\n",
    "在构造函数中打印\"super\"\n",
    "这里每个函数（除Predict外）的实现都为pass即可\n",
    "Train：参数为X，epsilon，epoch，没有返回值\n",
    "Predict：参数为X，返回值为y（直接返回y即可）\n",
    "Forward：参数为row\n",
    "Activate：参数为inputs\n",
    "Backpropagation：参数为expected\n",
    "Accuracy：无参数\n",
    "Save：参数为path\n",
    "\n",
    "\n",
    "4，在2中定义的类中定义属性变量network，bias和weights\n",
    "5，在__init__中初始化属性变量network，bias和weights\n",
    "3，创建2中定义的类的一个实例，并调用其中一个方法(函数)\n",
    "'''"
   ]
  },
  {
   "cell_type": "code",
   "execution_count": 7,
   "metadata": {},
   "outputs": [
    {
     "name": "stdout",
     "output_type": "stream",
     "text": [
      "<class 'super'>\n",
      "super\n",
      "yofa\n",
      "28\n",
      "女\n",
      "BaseClass\n",
      "None\n",
      "{'__module__': '__main__', '__init__': <function BaseClass.__init__ at 0x00000000058FF7B8>, 'getName': <function BaseClass.getName at 0x00000000058FF950>, 'train': <function BaseClass.train at 0x00000000058FF840>, 'predict': <function BaseClass.predict at 0x000000000590FF28>, 'forward': <function BaseClass.forward at 0x000000000590FEA0>, 'activate': <function BaseClass.activate at 0x000000000590FE18>, 'backpropagation': <function BaseClass.backpropagation at 0x000000000590FD90>, 'accuracy': <function BaseClass.accuracy at 0x000000000590F7B8>, 'save': <function BaseClass.save at 0x000000000590F730>, '__dict__': <attribute '__dict__' of 'BaseClass' objects>, '__weakref__': <attribute '__weakref__' of 'BaseClass' objects>, '__doc__': None}\n",
      "(<class '__main__.BaseClass'>, <class 'object'>)\n",
      "(<class 'object'>,)\n",
      "__main__\n",
      "<class 'super'>\n",
      "super\n",
      "{'name': 'yofaa', 'age': 281, 'gender': '女a'}\n"
     ]
    }
   ],
   "source": [
    "\n",
    "#base class 命名规则 驼峰\n",
    "class BaseClassA:\n",
    "  def __init__(self, name, age, gender):\n",
    "    #初期化\n",
    "    self.name = name\n",
    "    self.age = age\n",
    "    self.gender = gender\n",
    "    print(super)\n",
    "    print('super')\n",
    "    \n",
    "  def getName(self):\n",
    "    print(self.name)\n",
    "    \n",
    "  def train(X):\n",
    "    return y\n",
    "  def predict(X,Y):\n",
    "    pass\n",
    "  def forward(row):\n",
    "    pass\n",
    "  def activate(inputs):\n",
    "    pass\n",
    "  def backpropagation(expected):\n",
    "    pass\n",
    "  def accuracy():\n",
    "    pass\n",
    "  def save(path):\n",
    "    pass\n",
    "    \n",
    "p = BaseClass('yofa', 28, '女')\n",
    "print(p.name)\n",
    "print(p.age)\n",
    "print(p.gender)\n",
    "print(BaseClass.__name__) # Person\n",
    "print(BaseClass.__doc__) # Person类\n",
    "print(BaseClass.__dict__) # {'__doc__': 'Person类', '__weakref__': <attribute '__weakref__' of 'Person' objects>, '__init__': <function Person.__init__ at 0x000000000284E950>, 'getName': <function Person.getName at 0x000000000284EA60>, '__dict__': <attribute '__dict__' of 'Person' objects>, '__module__': '__main__'}\n",
    "print(BaseClass.__mro__) # (<class '__main__.Person'>, <class 'object'>)\n",
    "print(BaseClass.__bases__) # (<class 'object'>,)\n",
    "print(BaseClass.__module__) # __main__\n",
    "\n",
    "p1 = BaseClass('yofaa', 281, '女a')\n",
    "print(p1.__dict__) \n"
   ]
  },
  {
   "cell_type": "code",
   "execution_count": 8,
   "metadata": {},
   "outputs": [
    {
     "ename": "SyntaxError",
     "evalue": "invalid syntax (<ipython-input-8-6f6770fddf97>, line 7)",
     "output_type": "error",
     "traceback": [
      "\u001b[1;36m  File \u001b[1;32m\"<ipython-input-8-6f6770fddf97>\"\u001b[1;36m, line \u001b[1;32m7\u001b[0m\n\u001b[1;33m    class subclass(BaseClass.ChildClass)\u001b[0m\n\u001b[1;37m                                        ^\u001b[0m\n\u001b[1;31mSyntaxError\u001b[0m\u001b[1;31m:\u001b[0m invalid syntax\n"
     ]
    }
   ],
   "source": [
    "'''\n",
    "２、定义一个类，继承1中定义的基类，\n",
    "实现所有函数，\n",
    "所有函数功能为打印函数名和参数。\n",
    "'''\n",
    "\n",
    "class subclass(BaseClassA.BaseClass)\n",
    "    def save(path):\n",
    "    pass"
   ]
  },
  {
   "cell_type": "code",
   "execution_count": null,
   "metadata": {},
   "outputs": [],
   "source": []
  }
 ],
 "metadata": {
  "kernelspec": {
   "display_name": "Python 3",
   "language": "python",
   "name": "python3"
  },
  "language_info": {
   "codemirror_mode": {
    "name": "ipython",
    "version": 3
   },
   "file_extension": ".py",
   "mimetype": "text/x-python",
   "name": "python",
   "nbconvert_exporter": "python",
   "pygments_lexer": "ipython3",
   "version": "3.6.4"
  }
 },
 "nbformat": 4,
 "nbformat_minor": 2
}
