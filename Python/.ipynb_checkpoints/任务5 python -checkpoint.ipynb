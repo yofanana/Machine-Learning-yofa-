{
 "cells": [
  {
   "cell_type": "code",
   "execution_count": 5,
   "metadata": {},
   "outputs": [],
   "source": [
    "#编程任务5实现的时候请尽量使用list comprehension。\n"
   ]
  },
  {
   "cell_type": "code",
   "execution_count": 9,
   "metadata": {},
   "outputs": [
    {
     "name": "stdout",
     "output_type": "stream",
     "text": [
      "[0, 15, 30, 45, 60, 75, 90]\n",
      "[0, 15, 30, 45, 60, 75, 90]\n"
     ]
    }
   ],
   "source": [
    "\n",
    "#1.在1到100的数字中，打印所有既能被3整除，也能被5整除的数\n",
    "\n",
    "lambda_list_1=list(filter(lambda x: (x%3==0)&(x%5==0) , range(0,100)))\n",
    "comph_list_1=list(x for x in range(0,100) if(x%3==0)&(x%5==0))\n",
    "\n",
    "print(lambda_list_1)\n",
    "print(comph_list_1)"
   ]
  },
  {
   "cell_type": "code",
   "execution_count": 10,
   "metadata": {},
   "outputs": [
    {
     "name": "stdout",
     "output_type": "stream",
     "text": [
      "[0, 3, 5, 6, 9, 10, 12, 15, 18, 20, 21, 24, 25, 27, 30, 33, 35, 36, 39, 40, 42, 45, 48, 50, 51, 54, 55, 57, 60, 63, 65, 66, 69, 70, 72, 75, 78, 80, 81, 84, 85, 87, 90, 93, 95, 96, 99]\n",
      "[0, 3, 5, 6, 9, 10, 12, 15, 18, 20, 21, 24, 25, 27, 30, 33, 35, 36, 39, 40, 42, 45, 48, 50, 51, 54, 55, 57, 60, 63, 65, 66, 69, 70, 72, 75, 78, 80, 81, 84, 85, 87, 90, 93, 95, 96, 99]\n"
     ]
    }
   ],
   "source": [
    "\n",
    "#2.在1到100的数字中，打印所有能被3整除或者能被5整除的数\n",
    "\n",
    "lambda_list_2= list(filter(lambda x: (x%3==0)|(x%5==0), range(0,100)))\n",
    "comph_list_2=list(x for x in range(0,100) if(x%3==0)|(x%5==0))\n",
    "\n",
    "print(lambda_list_2)\n",
    "print(comph_list_2)"
   ]
  },
  {
   "cell_type": "code",
   "execution_count": 12,
   "metadata": {},
   "outputs": [
    {
     "name": "stdout",
     "output_type": "stream",
     "text": [
      "[1, 2, 3, 4]\n",
      "[1, 2, 3, 4]\n"
     ]
    }
   ],
   "source": [
    "\n",
    "#3.给定一个a=[1,2,3,None,4]，打印所有非None值\n",
    "lambda_list_3= list(filter(lambda x: x is not None,[1,2,3,None,4]))\n",
    "comph_list_3=list(x for x in [1,2,3,None,4] if(x is not None))\n",
    "\n",
    "print(lambda_list_3)\n",
    "print(comph_list_3)"
   ]
  },
  {
   "cell_type": "code",
   "execution_count": 16,
   "metadata": {},
   "outputs": [
    {
     "name": "stdout",
     "output_type": "stream",
     "text": [
      "[3, 4]\n",
      "[3, 4]\n"
     ]
    }
   ],
   "source": [
    "\n",
    "#4.给定一个a=[1,2,3,None,4]，打印所有大于2的值\n",
    "lambda_list_4=list(filter(lambda x: str(x).isdigit(),[1,2,3,None,4]))\n",
    "lambda_list_4=list(filter(lambda x: x>2,lambda_list_4))\n",
    "\n",
    "comph_list_4=list(x for x in [1,2,3,None,4] if(str(x).isdigit()))\n",
    "comph_list_4=list(x for x in comph_list_4 if(x>2))\n",
    "\n",
    "print(lambda_list_4)\n",
    "print(comph_list_4)"
   ]
  },
  {
   "cell_type": "code",
   "execution_count": 23,
   "metadata": {},
   "outputs": [
    {
     "name": "stdout",
     "output_type": "stream",
     "text": [
      "14\n",
      "12\n",
      "14 不等于 12\n"
     ]
    }
   ],
   "source": [
    "\n",
    "#5.判断两个整数是否相等\n",
    "intinput_a=int(input())\n",
    "intinput_b=int(input())\n",
    "if(intinput_a == intinput_b):\n",
    "    print(\"%s 等于 %s\" %(intinput_a,intinput_b))\n",
    "else:\n",
    "    print(\"%s 不等于 %s\" %(intinput_a,intinput_b))"
   ]
  },
  {
   "cell_type": "code",
   "execution_count": 1,
   "metadata": {},
   "outputs": [],
   "source": [
    "#判断两个字符串是否相等\n",
    "\n"
   ]
  },
  {
   "cell_type": "code",
   "execution_count": null,
   "metadata": {},
   "outputs": [],
   "source": [
    "#判断两个List是否相等"
   ]
  }
 ],
 "metadata": {
  "kernelspec": {
   "display_name": "Python 3",
   "language": "python",
   "name": "python3"
  },
  "language_info": {
   "codemirror_mode": {
    "name": "ipython",
    "version": 3
   },
   "file_extension": ".py",
   "mimetype": "text/x-python",
   "name": "python",
   "nbconvert_exporter": "python",
   "pygments_lexer": "ipython3",
   "version": "3.6.4"
  }
 },
 "nbformat": 4,
 "nbformat_minor": 2
}
