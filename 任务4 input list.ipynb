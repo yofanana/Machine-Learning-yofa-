{
 "cells": [
  {
   "cell_type": "code",
   "execution_count": 1,
   "metadata": {},
   "outputs": [],
   "source": [
    "def print_cal(a):\n",
    "      b=int(len(a)/2)\n",
    "      print(sum(a[0:b]))"
   ]
  },
  {
   "cell_type": "code",
   "execution_count": 3,
   "metadata": {},
   "outputs": [
    {
     "name": "stdout",
     "output_type": "stream",
     "text": [
      "1,213,345,56,678,342\n",
      "['1', '213', '345', '56', '678', '342']\n",
      "559\n"
     ]
    }
   ],
   "source": [
    "x=input()\n",
    "#isinstance(name,list)\n",
    "#print_hello(name)\n",
    "try:\n",
    "    if(x is None):\n",
    "        print(\"input None\")\n",
    "    if x.strip()==\"\":  \n",
    "        print(\"input is null\")\n",
    "    if x.strip():    \n",
    "        xlist=x.split(\",\")\n",
    "        print(xlist)\n",
    "        xlist = [int(xlist[i]) for i in range(len(xlist))]\n",
    "        print_cal(xlist)\n",
    "except expression as identifier:\n",
    "    print(\"error\")"
   ]
  },
  {
   "cell_type": "code",
   "execution_count": null,
   "metadata": {},
   "outputs": [],
   "source": []
  }
 ],
 "metadata": {
  "kernelspec": {
   "display_name": "Python 3",
   "language": "python",
   "name": "python3"
  },
  "language_info": {
   "codemirror_mode": {
    "name": "ipython",
    "version": 3
   },
   "file_extension": ".py",
   "mimetype": "text/x-python",
   "name": "python",
   "nbconvert_exporter": "python",
   "pygments_lexer": "ipython3",
   "version": "3.6.4"
  }
 },
 "nbformat": 4,
 "nbformat_minor": 2
}
