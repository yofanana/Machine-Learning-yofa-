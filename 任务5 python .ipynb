{
 "cells": [
  {
   "cell_type": "code",
   "execution_count": 1,
   "metadata": {},
   "outputs": [
    {
     "name": "stdout",
     "output_type": "stream",
     "text": [
      "[0, 15, 30, 45, 60, 75, 90]\n"
     ]
    }
   ],
   "source": [
    "# 在1到100的数字中，打印所有既能被3整除，也能被5整除的数\n",
    "a=list(range(0,100))\n",
    "a=list(filter(lambda x: (x%3==0)&(x%5==0) , a))\n",
    "print(a)"
   ]
  },
  {
   "cell_type": "code",
   "execution_count": 2,
   "metadata": {},
   "outputs": [
    {
     "name": "stdout",
     "output_type": "stream",
     "text": [
      "[0, 3, 5, 6, 9, 10, 12, 15, 18, 20, 21, 24, 25, 27, 30, 33, 35, 36, 39, 40, 42, 45, 48, 50, 51, 54, 55, 57, 60, 63, 65, 66, 69, 70, 72, 75, 78, 80, 81, 84, 85, 87, 90, 93, 95, 96, 99]\n"
     ]
    }
   ],
   "source": [
    "#在1到100的数字中，打印所有能被3整除或者能被5整除的数\n",
    "b= list(filter(lambda x: (x%3==0)|(x%5==0), range(0,100)))\n",
    "print(b)"
   ]
  },
  {
   "cell_type": "code",
   "execution_count": 5,
   "metadata": {},
   "outputs": [
    {
     "name": "stdout",
     "output_type": "stream",
     "text": [
      "[1, 2, 3, 4]\n"
     ]
    }
   ],
   "source": [
    "#给定一个a=[1,2,3,None,4]，打印所有非None值\n",
    "aa=[1,2,3,None,4]\n",
    "aa= list(filter(lambda x: x!=None,aa))\n",
    "print(aa)"
   ]
  },
  {
   "cell_type": "code",
   "execution_count": 10,
   "metadata": {},
   "outputs": [
    {
     "name": "stdout",
     "output_type": "stream",
     "text": [
      "[3, 4]\n"
     ]
    }
   ],
   "source": [
    "#给定一个a=[1,2,3,None,4]，打印所有大于2的值\n",
    "cc=[1,2,3,None,4]\n",
    "cc=list(filter(lambda x: str(x).isdigit(),cc))\n",
    "cc=list(filter(lambda x: x>2,cc))\n",
    "print(cc)\n"
   ]
  },
  {
   "cell_type": "code",
   "execution_count": 2,
   "metadata": {},
   "outputs": [
    {
     "name": "stdout",
     "output_type": "stream",
     "text": [
      "12\n",
      "12\n",
      "213\n",
      "213\n",
      "12 等于 213\n"
     ]
    }
   ],
   "source": [
    "#判断两个整数是否相等\n",
    "intInputA=input()\n",
    "print(int(intInputA))\n",
    "intInputB=input()\n",
    "print(int(intInputB))\n",
    "if(intInputA is intInputA):\n",
    "    print(\"%s 等于 %s\" %(intInputA,intInputB))\n",
    "else:\n",
    "    print(\"%s 不等于 %s\" %(intInputA,intInputB))"
   ]
  },
  {
   "cell_type": "code",
   "execution_count": 1,
   "metadata": {},
   "outputs": [],
   "source": [
    "#判断两个字符串是否相等\n"
   ]
  },
  {
   "cell_type": "code",
   "execution_count": null,
   "metadata": {},
   "outputs": [],
   "source": [
    "#判断两个List是否相等"
   ]
  }
 ],
 "metadata": {
  "kernelspec": {
   "display_name": "Python 3",
   "language": "python",
   "name": "python3"
  },
  "language_info": {
   "codemirror_mode": {
    "name": "ipython",
    "version": 3
   },
   "file_extension": ".py",
   "mimetype": "text/x-python",
   "name": "python",
   "nbconvert_exporter": "python",
   "pygments_lexer": "ipython3",
   "version": "3.6.4"
  }
 },
 "nbformat": 4,
 "nbformat_minor": 2
}
